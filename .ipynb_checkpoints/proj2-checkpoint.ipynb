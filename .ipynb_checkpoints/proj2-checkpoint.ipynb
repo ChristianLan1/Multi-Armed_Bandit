{
 "cells": [
  {
   "cell_type": "markdown",
   "metadata": {},
   "source": [
    "# COMP90051 Project 2"
   ]
  },
  {
   "cell_type": "code",
   "execution_count": 1,
   "metadata": {},
   "outputs": [],
   "source": [
    "# Do not edit. These are the only imports permitted.\n",
    "%matplotlib inline\n",
    "import numpy as np\n",
    "from numpy.linalg import inv\n",
    "import matplotlib.pyplot as plt\n",
    "from abc import ABC, abstractmethod"
   ]
  },
  {
   "cell_type": "markdown",
   "metadata": {},
   "source": [
    "## 1. Implementing ε-Greedy and UCB"
   ]
  },
  {
   "cell_type": "code",
   "execution_count": 2,
   "metadata": {},
   "outputs": [],
   "source": [
    "class MAB(ABC):\n",
    "    \"\"\"\n",
    "    Abstract class that represents a multi-armed bandit (MAB)\n",
    "    \"\"\"\n",
    "    \n",
    "    @abstractmethod\n",
    "    def play(self, tround, context):\n",
    "        \"\"\"\n",
    "        Play a round\n",
    "        \n",
    "        Arguments\n",
    "        =========\n",
    "        tround : int\n",
    "            positive integer identifying the round\n",
    "        \n",
    "        context : 1D float array, shape (self.ndims * self.narms), optional\n",
    "            context given to the arms\n",
    "        \n",
    "        Returns\n",
    "        =======\n",
    "        arm : int\n",
    "            the positive integer arm id for this round\n",
    "        \"\"\"\n",
    "    \n",
    "    @abstractmethod\n",
    "    def update(self, arm, reward, context):\n",
    "        \"\"\"\n",
    "        Updates the internal state of the MAB after a play\n",
    "        \n",
    "        Arguments\n",
    "        =========\n",
    "        arm : int\n",
    "            a positive integer arm id in {1, ..., self.narms}\n",
    "        \n",
    "        reward : float\n",
    "            reward received from arm\n",
    "        \n",
    "        context : 1D float array, shape (self.ndims * self.narms), optional\n",
    "            context given to arms\n",
    "        \"\"\""
   ]
  },
  {
   "cell_type": "code",
   "execution_count": 3,
   "metadata": {},
   "outputs": [],
   "source": [
    "class EpsGreedy(MAB):\n",
    "    \"\"\"\n",
    "    Epsilon-Greedy multi-armed bandit\n",
    "\n",
    "    Arguments\n",
    "    =========\n",
    "    narms : int\n",
    "        number of arms\n",
    "\n",
    "    epsilon : float\n",
    "        explore probability\n",
    "\n",
    "    Q0 : float, optional\n",
    "        initial value for the arms\n",
    "    \"\"\"\n",
    "    \n",
    "    def __init__(self, narms, epsilon, Q0=np.inf):\n",
    "        \n",
    "        self.narms = narms\n",
    "        self.epsilon = epsilon\n",
    "        self.Q0 = Q0\n",
    "        self.arm_visit_count = {}\n",
    "        self.arm_total_reward = {}\n",
    "        \n",
    "        self.arm_with_Q = {}\n",
    "        for arm in range(1,self.narms+1):\n",
    "            self.arm_with_Q[arm]=self.Q0 #Initial all the arm with Q0\n",
    "            \n",
    "            self.arm_visit_count[arm]=0 #Initial all the arm with number of visits\n",
    "            self.arm_total_reward[arm] = 0\n",
    "            \n",
    "        \n",
    "    def play(self, tround, context=None):\n",
    "        if np.random.random() <self.epsilon:#exploration\n",
    "            action = np.random.choice(self.narms)\n",
    "        else:\n",
    "            highest = max(self.arm_with_Q.values())\n",
    "            highest_Qs = [key for key, value in self.arm_with_Q.items() if value == highest]\n",
    "            if len(highest_Qs)>1:\n",
    "                action = np.random.choice(highest_Qs)#Tie Breaker\n",
    "            else:\n",
    "                action = highest_Qs[0]\n",
    "         \n",
    "        return action\n",
    "        \n",
    "        \n",
    "    def update(self, arm, reward, context=None):\n",
    "        self.arm_visit_count[arm] += 1\n",
    "        self.arm_total_reward[arm] += reward\n",
    "        updated_reward = self.arm_total_reward[arm]/self.arm_visit_count[arm]\n",
    "        \n",
    "        self.arm_with_Q.update({arm:updated_reward})\n",
    "        \n",
    "        return self.arm_with_Q\n",
    "        \n",
    "        \n",
    "    "
   ]
  },
  {
   "cell_type": "code",
   "execution_count": 4,
   "metadata": {},
   "outputs": [],
   "source": [
    "class UCB(MAB):\n",
    "    \"\"\"\n",
    "    Upper Confidence Bound (UCB) multi-armed bandit\n",
    "\n",
    "    Arguments\n",
    "    =========\n",
    "    narms : int\n",
    "        number of arms\n",
    "\n",
    "    rho : float\n",
    "        positive real explore-exploit parameter\n",
    "\n",
    "    Q0 : float, optional\n",
    "        initial value for the arms\n",
    "    \"\"\"\n",
    "    \n",
    "    def __init__(self, narms, rho, Q0=np.inf):\n",
    "        self.narms = narms\n",
    "        self.rho = rho\n",
    "        self.Q0 = Q0\n",
    "        self.arm_visit_count = {}\n",
    "        self.arm_total_reward = {}\n",
    "        \n",
    "        self.arm_with_avg_reward = {}\n",
    "        for arm in range(1,self.narms+1):\n",
    "            self.arm_with_avg_reward[arm]=self.Q0 #Initial all the arm with Q0\n",
    "            \n",
    "            self.arm_visit_count[arm]=0 #Initial all the arm with number of visits\n",
    "            self.arm_total_reward[arm] = 0\n",
    "        \n",
    "    \n",
    "    def play(self, tround, context=None):\n",
    "        temp_arm_with_Q = self.arm_with_avg_reward\n",
    "        \n",
    "        \n",
    "        \n",
    "        for arm in temp_arm_with_Q:\n",
    "            if self.arm_visit_count[arm] == 0:\n",
    "                continue\n",
    "                \n",
    "                \n",
    "            else:\n",
    "                explore_boost_const = self.rho*np.log(tround)/self.arm_visit_count[arm]\n",
    "                \n",
    "                temp_arm_with_Q[arm] = temp_arm_with_Q[arm] + np.sqrt(explore_boost_const)\n",
    "            \n",
    "        #print(temp_arm_with_Q)\n",
    "        highest = max(temp_arm_with_Q.values())\n",
    "        highest_Qs = [key for key, value in temp_arm_with_Q.items() if value == highest]\n",
    "        if len(highest_Qs)>1:\n",
    "            action = np.random.choice(highest_Qs)#Tie Breaker\n",
    "        else:\n",
    "            action = highest_Qs[0]\n",
    "        return action\n",
    "        \n",
    "    def update(self, arm, reward, context=None):\n",
    "        self.arm_visit_count[arm] += 1\n",
    "        self.arm_total_reward[arm] += reward\n",
    "        updated_reward = self.arm_total_reward[arm]/self.arm_visit_count[arm]\n",
    "        \n",
    "        self.arm_with_avg_reward.update({arm:updated_reward})\n",
    "        \n",
    "        return self.arm_with_avg_reward\n",
    "        \n",
    "    "
   ]
  },
  {
   "cell_type": "markdown",
   "metadata": {},
   "source": [
    "## 2. The Basic Thompson Bandit"
   ]
  },
  {
   "cell_type": "code",
   "execution_count": 5,
   "metadata": {},
   "outputs": [],
   "source": [
    "class BetaThompson(MAB):\n",
    "    \"\"\"\n",
    "    Beta-Bernoulli Thompson sampling multi-armed bandit\n",
    "\n",
    "    Arguments\n",
    "    =========\n",
    "    narms : int\n",
    "        number of arms\n",
    "\n",
    "    alpha0 : float, optional\n",
    "        positive real prior hyperparameter\n",
    "\n",
    "    beta0 : float, optional\n",
    "        positive real prior hyperparameter\n",
    "    \"\"\"\n",
    "    \n",
    "    def __init__(self, narms, alpha0=1.0, beta0=1.0):\n",
    "        self.narms = narms\n",
    "        self.alpha0 = alpha0\n",
    "        self.beta0 = beta0\n",
    "        self.theta = np.random.beta(self.alpha0, self.beta0)\n",
    "        \n",
    "        \n",
    "        self.arm_with_theta = {}\n",
    "        self.arm_with_alpha0 = {}\n",
    "        self.arm_with_beta0 = {}\n",
    "        \n",
    "        for arm in range(1,self.narms+1):\n",
    "            self.arm_with_theta[arm]=self.theta #Initial all the arm with Q0\n",
    "            self.arm_with_alpha0[arm]=self.alpha0\n",
    "            self.arm_with_beta0[arm]=self.beta0\n",
    "            \n",
    "        \n",
    "        \n",
    "    \n",
    "    def play(self, tround, context=None):\n",
    "        for arm in range(1,self.narms+1):\n",
    "            self.arm_with_theta[arm] = np.random.beta(self.arm_with_alpha0[arm]+1, self.arm_with_beta0[arm]+1)\n",
    "        highest = max(self.arm_with_theta.values())\n",
    "        highest_Qs = [key for key, value in self.arm_with_theta.items() if value == highest]\n",
    "        if len(highest_Qs)>1:\n",
    "            action = np.random.choice(highest_Qs)#Tie Breaker\n",
    "        else:\n",
    "            action = highest_Qs[0]\n",
    "        return action\n",
    "        \n",
    "        \n",
    "        \n",
    "    def update(self, arm, reward, context=None):\n",
    "        if reward ==1:\n",
    "            self.arm_with_alpha0[arm] += 1\n",
    "        else:\n",
    "            self.arm_with_beta0[arm] += 1\n",
    "        "
   ]
  },
  {
   "cell_type": "markdown",
   "metadata": {},
   "source": [
    "## 3. Off-Policy Evaluation"
   ]
  },
  {
   "cell_type": "code",
   "execution_count": 6,
   "metadata": {},
   "outputs": [],
   "source": [
    "arm_list = []\n",
    "reward_list = []\n",
    "features_list = []\n",
    "num_of_events = 0\n",
    "with open(\"dataset.txt\",\"r\") as f:\n",
    "    dataset = f.readlines()\n",
    "for line in dataset:\n",
    "    num_of_events += 1\n",
    "    #print(line)\n",
    "    temp_line = line.split()\n",
    "    #print(temp_line)\n",
    "    arm = int(temp_line[0])\n",
    "    reward = int(temp_line[1])\n",
    "    features = temp_line[2:]\n",
    "    \n",
    "    arm_list.append(arm)\n",
    "    reward_list.append(reward)\n",
    "    features_list.append(features)\n",
    "arms = np.array(arm_list)\n",
    "rewards = np.array(reward_list)\n",
    "contexts = np.array(features_list).reshape(num_of_events,100)\n",
    "\n",
    "    \n",
    "def offlineEvaluate(mab, arms, rewards, contexts, nrounds=None):\n",
    "    \"\"\"\n",
    "    Offline evaluation of a multi-armed bandit\n",
    "    \n",
    "    Arguments\n",
    "    =========\n",
    "    mab : instance of MAB\n",
    "    \n",
    "    arms : 1D int array, shape (nevents,) \n",
    "        integer arm id for each event\n",
    "    \n",
    "    rewards : 1D float array, shape (nevents,)\n",
    "        reward received for each event\n",
    "    \n",
    "    contexts : 2D float array, shape (nevents, mab.narms*nfeatures)\n",
    "        contexts presented to the arms (stacked horizontally) \n",
    "        for each event.\n",
    "        \n",
    "    nrounds : int, optional\n",
    "        number of matching events to evaluate `mab` on.\n",
    "    \n",
    "    Returns\n",
    "    =======\n",
    "    out : 1D float array\n",
    "        rewards for the matching events\n",
    "    \"\"\"\n",
    "    h0 = []\n",
    "    R0 = []\n",
    "    \"\"\"if nrounds is None or nrounds > num_of_events:\n",
    "        events = num_of_events\n",
    "    else:\n",
    "        events = nrounds\"\"\"\n",
    "    count = 0\n",
    "    for event in range(num_of_events):\n",
    "        \n",
    "        action = mab.play(count,contexts[event])\n",
    "        if action == arms[event]:\n",
    "            count +=1\n",
    "            h0.append(event)\n",
    "            R0.append(rewards[event])\n",
    "            mab.update(arms[event],rewards[event],contexts[event])\n",
    "        if count == nrounds:\n",
    "            \n",
    "            break\n",
    "    #print(count)\n",
    "    return R0\n",
    "            \n",
    "\n",
    "        \n",
    "    "
   ]
  },
  {
   "cell_type": "code",
   "execution_count": 7,
   "metadata": {},
   "outputs": [
    {
     "name": "stdout",
     "output_type": "stream",
     "text": [
      "800\n",
      "EpsGreedy average reward 0.27375\n"
     ]
    }
   ],
   "source": [
    "mab = EpsGreedy(10, 0.05)\n",
    "results_EpsGreedy = offlineEvaluate(mab, arms, rewards, contexts, 800)\n",
    "print(len(results_EpsGreedy))\n",
    "print('EpsGreedy average reward', np.mean(results_EpsGreedy))"
   ]
  },
  {
   "cell_type": "code",
   "execution_count": 8,
   "metadata": {},
   "outputs": [
    {
     "name": "stdout",
     "output_type": "stream",
     "text": [
      "UCB average reward 0.09875\n"
     ]
    }
   ],
   "source": [
    "mab = UCB(10, 1.0)\n",
    "results_UCB = offlineEvaluate(mab, arms, rewards, contexts, 800)\n",
    "print('UCB average reward', np.mean(results_UCB))"
   ]
  },
  {
   "cell_type": "code",
   "execution_count": 9,
   "metadata": {},
   "outputs": [
    {
     "name": "stdout",
     "output_type": "stream",
     "text": [
      "BetaThompson average reward 0.21\n"
     ]
    }
   ],
   "source": [
    "mab = BetaThompson(10, 1.0, 1.0)\n",
    "results_BetaThompson = offlineEvaluate(mab, arms, rewards, contexts, 800)\n",
    "print('BetaThompson average reward', np.mean(results_BetaThompson))"
   ]
  },
  {
   "cell_type": "markdown",
   "metadata": {},
   "source": [
    "## 4. Contextual Bandits - LinUCB"
   ]
  },
  {
   "cell_type": "code",
   "execution_count": 10,
   "metadata": {},
   "outputs": [
    {
     "ename": "IndentationError",
     "evalue": "expected an indented block (<ipython-input-10-0c2e2d1f0e69>, line 20)",
     "output_type": "error",
     "traceback": [
      "\u001b[1;36m  File \u001b[1;32m\"<ipython-input-10-0c2e2d1f0e69>\"\u001b[1;36m, line \u001b[1;32m20\u001b[0m\n\u001b[1;33m    def play(self, tround, context):\u001b[0m\n\u001b[1;37m      ^\u001b[0m\n\u001b[1;31mIndentationError\u001b[0m\u001b[1;31m:\u001b[0m expected an indented block\n"
     ]
    }
   ],
   "source": [
    "class LinUCB(MAB):\n",
    "    \"\"\"\n",
    "    Contextual multi-armed bandit (LinUCB)\n",
    "\n",
    "    Arguments\n",
    "    =========\n",
    "    narms : int\n",
    "        number of arms\n",
    "\n",
    "    ndims : int\n",
    "        number of dimensions for each arm's context\n",
    "\n",
    "    alpha : float\n",
    "        positive real explore-exploit parameter\n",
    "    \"\"\"\n",
    "    \n",
    "    def __init__(self, narms, ndims, alpha):\n",
    "        \n",
    "        \n",
    "    def play(self, tround, context):\n",
    "        \n",
    "    \n",
    "    def update(self, arm, reward, context):\n",
    "        \n",
    "    "
   ]
  },
  {
   "cell_type": "code",
   "execution_count": null,
   "metadata": {},
   "outputs": [],
   "source": [
    "mab = LinUCB(10, 10, 1.0)\n",
    "results_LinUCB = offlineEvaluate(mab, arms, rewards, contexts, 800)\n",
    "print('LinUCB average reward', np.mean(results_LinUCB))"
   ]
  },
  {
   "cell_type": "markdown",
   "metadata": {},
   "source": [
    "## 5. Contextual Bandits - LinThompson"
   ]
  },
  {
   "cell_type": "code",
   "execution_count": null,
   "metadata": {},
   "outputs": [],
   "source": [
    "class LinThompson(MAB):\n",
    "    \"\"\"\n",
    "    Contextual Thompson sampled multi-armed bandit (LinThompson)\n",
    "\n",
    "    Arguments\n",
    "    =========\n",
    "    narms : int\n",
    "        number of arms\n",
    "\n",
    "    ndims : int\n",
    "        number of dimensions for each arm's context\n",
    "\n",
    "    v : float\n",
    "        positive real explore-exploit parameter\n",
    "    \"\"\"\n",
    "    \n",
    "    def __init__(self, narms, ndims, v):\n",
    "        \n",
    "        \n",
    "    def play(self, tround, context):\n",
    "        \n",
    "    \n",
    "    def update(self, arm, reward, context):\n",
    "        \n",
    "    "
   ]
  },
  {
   "cell_type": "code",
   "execution_count": null,
   "metadata": {},
   "outputs": [],
   "source": [
    "mab = LinThompson(10, 10, 1.0)\n",
    "results_LinThompson = offlineEvaluate(mab, arms, rewards, contexts, 800)\n",
    "print('LinThompson average reward', np.mean(results_LinThompson))"
   ]
  },
  {
   "cell_type": "markdown",
   "metadata": {},
   "source": [
    "## 6. Evaluation\n",
    "### 6.A."
   ]
  },
  {
   "cell_type": "code",
   "execution_count": 11,
   "metadata": {},
   "outputs": [
    {
     "data": {
      "image/png": "[encoded data removed]",
      "text/plain": [
       "<Figure size 432x288 with 1 Axes>"
      ]
     },
     "metadata": {
      "needs_background": "light"
     },
     "output_type": "display_data"
    }
   ],
   "source": [
    "EpsGreedy_reward = []\n",
    "UCB_reward = []\n",
    "betaThompson_reward = []\n",
    "total_round = []\n",
    "count = 0\n",
    "for round in range(1,801):\n",
    "    count +=1\n",
    "    total_round.append(count)\n",
    "    if round ==1:\n",
    "        EpsGreedy_reward.append(results_EpsGreedy[round-1]/round)\n",
    "        UCB_reward.append(results_UCB[round-1]/round)\n",
    "        betaThompson_reward.append(results_BetaThompson[round-1]/round)\n",
    "    else:\n",
    "        results_EpsGreedy[round-1] += results_EpsGreedy[round-2] \n",
    "        EpsGreedy_reward.append(results_EpsGreedy[round-1]/round)\n",
    "        \n",
    "        results_UCB[round-1]+= results_UCB[round-2]\n",
    "        UCB_reward.append(results_UCB[round-1]/round)\n",
    "        \n",
    "        results_BetaThompson[round-1]+= results_BetaThompson[round-2]\n",
    "        betaThompson_reward.append(results_BetaThompson[round-1]/round)\n",
    "        \n",
    "plt.plot(total_round,EpsGreedy_reward, label = \"eGreedy\")\n",
    "plt.plot(total_round,UCB_reward, label = \"UCB\")\n",
    "plt.plot(total_round,betaThompson_reward, label = \"BetaThompson\")\n",
    "plt.ylabel('Per-Round Cumulative Reward')\n",
    "plt.xlabel('Rounds')\n",
    "plt.legend()\n",
    "plt.show()"
   ]
  },
  {
   "cell_type": "markdown",
   "metadata": {},
   "source": [
    "### 6.B."
   ]
  },
  {
   "cell_type": "code",
   "execution_count": null,
   "metadata": {},
   "outputs": [],
   "source": []
  },
  {
   "cell_type": "code",
   "execution_count": null,
   "metadata": {},
   "outputs": [],
   "source": []
  }
 ],
 "metadata": {
  "kernelspec": {
   "display_name": "Python 3",
   "language": "python",
   "name": "python3"
  },
  "language_info": {
   "codemirror_mode": {
    "name": "ipython",
    "version": 3
   },
   "file_extension": ".py",
   "mimetype": "text/x-python",
   "name": "python",
   "nbconvert_exporter": "python",
   "pygments_lexer": "ipython3",
   "version": "3.7.3"
  }
 },
 "nbformat": 4,
 "nbformat_minor": 2
}
